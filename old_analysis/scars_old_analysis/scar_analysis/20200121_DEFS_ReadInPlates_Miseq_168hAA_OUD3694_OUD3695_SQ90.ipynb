{
 "cells": [
  {
   "cell_type": "markdown",
   "metadata": {},
   "source": [
    "# Import dependencies"
   ]
  },
  {
   "cell_type": "code",
   "execution_count": 1,
   "metadata": {},
   "outputs": [],
   "source": [
    "import sys, os\n",
    "from pandas.io.parsers import read_csv\n",
    "import numpy as np\n",
    "import pandas as pd\n",
    "import collections\n",
    "import scipy"
   ]
  },
  {
   "cell_type": "markdown",
   "metadata": {},
   "source": [
    "# FACS3.2"
   ]
  },
  {
   "cell_type": "markdown",
   "metadata": {},
   "source": [
    "Overview of gastruloids in this dataset:\n",
    "\n",
    "gastruloid name | Condition | Plates\n",
    "---|---|---\n",
    "1-1-1 | 96h embedded, induced | A, B, C, D, E, F, G 1/2\n",
    "3-2 | 120h embedded, induced | G 1/2, H, I, J, K, L 1/2\n",
    "3-6 | 120h embedded, induced | L 1/2, M, N, O, P, Q, R 1/2\n",
    "3 | 120h embedded, non-induced | R 1/2, S"
   ]
  },
  {
   "cell_type": "markdown",
   "metadata": {},
   "source": [
    "## First: make a dictionary of all gastruloid names"
   ]
  },
  {
   "cell_type": "markdown",
   "metadata": {},
   "source": [
    "We can use this dictionary to change all names correctly. Names should be as follows: plateName_cellNumber.gastruloidName. \n",
    "We need to make a dictionary to correctly assign all cells to the correct gastruloids: some plates contain cells from multiple gastruloids."
   ]
  },
  {
   "cell_type": "code",
   "execution_count": 71,
   "metadata": {},
   "outputs": [],
   "source": [
    "# plates go from 1 until 384. for 1-384: range(1,385)\n",
    "def gastruloidDictionary (plateName,gastruloidName,lower,upper):\n",
    "    dictGastruloidNames = {}\n",
    "    for cellnumber in list(range(lower,upper)):\n",
    "        oldname = (plateName+'_') + str(cellnumber)\n",
    "        newname = oldname + '.' + gastruloidName\n",
    "        dictGastruloidNames[oldname] = newname\n",
    "    return dictGastruloidNames  "
   ]
  },
  {
   "cell_type": "markdown",
   "metadata": {},
   "source": [
    "First we add all plates that contain just one gastruloid to a dictionary."
   ]
  },
  {
   "cell_type": "code",
   "execution_count": 91,
   "metadata": {},
   "outputs": [],
   "source": [
    "dict3t2_ABCDEF = {}\n",
    "plates111 = ['A','B','C','D','E','F']\n",
    "for plate in plates111:\n",
    "    dictplate = {}\n",
    "    dictplate = gastruloidDictionary((plate+'3t2'),'96hE-1-1-1',1,385)\n",
    "    dict3t2_ABCDEF.update(dictplate)\n",
    "\n",
    "dict3t2_HIJK = {}\n",
    "plates32 = ['H','I','J','K']\n",
    "for plate in plates32:\n",
    "    dictplate = {}\n",
    "    dictplate = gastruloidDictionary((plate+'3t2'),'120hE-3-2',1,385)\n",
    "    dict3t2_HIJK.update(dictplate)\n",
    "\n",
    "dict3t2_MNOPQ = {}\n",
    "plates36 = ['M','N','O','P','Q']\n",
    "for plate in plates36:\n",
    "    dictplate = {}\n",
    "    dictplate = gastruloidDictionary((plate+'3t2'),'120hE-3-6',1,385)\n",
    "    dict3t2_MNOPQ.update(dictplate)\n",
    "\n",
    "dict3t2_S = gastruloidDictionary('S3t2', '120hE-3', 1,385)\n"
   ]
  },
  {
   "cell_type": "markdown",
   "metadata": {},
   "source": [
    "Then we just have to add the plates that contain multiple gastruloids."
   ]
  },
  {
   "cell_type": "code",
   "execution_count": 92,
   "metadata": {},
   "outputs": [],
   "source": [
    "# plate G\n",
    "dict3t2_G = gastruloidDictionary('G3t2','96hE-1-1-1',1,169)\n",
    "dict3t2_G.update(gastruloidDictionary('G3t2','96hE-1-1-1',173,193))\n",
    "dict3t2_G.update(gastruloidDictionary('G3t2','120hE-3-2',169,173))\n",
    "dict3t2_G.update(gastruloidDictionary('G3t2','120hE-3-2',193,385))\n",
    "\n",
    "# plate L\n",
    "dict3t2_L = gastruloidDictionary('L3t2','120hE-3-2',1,206)\n",
    "dict3t2_L.update(gastruloidDictionary('L3t2','120hE-3-6',206,385))\n",
    "\n",
    "# plate R\n",
    "dict3t2_R = gastruloidDictionary('R3t2','120hE-3-6',1,65)\n",
    "dict3t2_R.update(gastruloidDictionary('R3t2','120hE-3',65,385))"
   ]
  },
  {
   "cell_type": "markdown",
   "metadata": {},
   "source": [
    "Now we can add all dictionaries together in one final dictionary."
   ]
  },
  {
   "cell_type": "code",
   "execution_count": 99,
   "metadata": {},
   "outputs": [],
   "source": [
    "alldicts3t2 = [dict3t2_ABCDEF,dict3t2_G,dict3t2_HIJK,dict3t2_L,\n",
    "            dict3t2_MNOPQ,dict3t2_R,dict3t2_S]\n"
   ]
  },
  {
   "cell_type": "code",
   "execution_count": 100,
   "metadata": {},
   "outputs": [],
   "source": [
    "finaldictionary3t2 = {}\n",
    "for dict1 in alldicts3t2:\n",
    "    finaldictionary3t2.update(dict1)\n",
    "    "
   ]
  },
  {
   "cell_type": "markdown",
   "metadata": {},
   "source": [
    "## Import and process all dataframes"
   ]
  },
  {
   "cell_type": "markdown",
   "metadata": {},
   "source": [
    "First define the path to all .csv files, this is used by the function to retrieve the files."
   ]
  },
  {
   "cell_type": "code",
   "execution_count": 102,
   "metadata": {},
   "outputs": [],
   "source": [
    "pathToData = '/Users/m.blotenburg/Documents/Projects/Mouse_Scartrace/Data_analysis/Scar_analysis/20190903_clusterBackupScars_VAN2988_OUD3694_OUD3695/cluster/168hAA/raw_demultiplexed/SQfilter_90/'"
   ]
  },
  {
   "cell_type": "code",
   "execution_count": 103,
   "metadata": {},
   "outputs": [],
   "source": [
    "def readInScarPlate(pathToFile, plateName,dictGastruloidNames):\n",
    "    scarPlate = read_csv((pathToData + pathToFile),sep = ',', low_memory=False, index_col=(0,1,2,3))\n",
    "    scarPlate = scarPlate.loc[[idx for idx in scarPlate.index if 'Unknown'!=idx]]\n",
    "    scarPlate = scarPlate.iloc[1:]\n",
    "    scarPlate.columns = scarPlate.columns.str.replace((scarPlate.columns[0].rsplit('_',1)[0] + '_'), (plateName + '_'))\n",
    "    scarPlate.index.names = ['chrom','allele','site', 'scar']\n",
    "    \n",
    "    scarPlate = scarPlate.rename(index=str, columns=dictGastruloidNames)    \n",
    "    scarPlate.columns = pd.MultiIndex.from_tuples( [ (x.split('.',3)[1], x.split('.',3)[0]) for x in scarPlate.columns] )\n",
    "    scarPlate.columns.names = ['gastruloid','cell']\n",
    "    scarPlate = scarPlate[sorted(scarPlate.columns)]\n",
    "    return scarPlate"
   ]
  },
  {
   "cell_type": "markdown",
   "metadata": {},
   "source": [
    "Define the full path for each plate."
   ]
  },
  {
   "cell_type": "code",
   "execution_count": 104,
   "metadata": {},
   "outputs": [],
   "source": [
    "pathA3t2 = 'MB-FACS3t2-Scars-plateA-dualIndex_000000000-CM8V3_S13_SQfiltered_Threshold90_countTable_nodedup.csv'\n",
    "pathB3t2 ='MB-FACS3t2-Scars-plateB-dualIndex_000000000-CM8V3_S14_SQfiltered_Threshold90_countTable_nodedup.csv'\n",
    "pathC3t2 ='MB-FACS3t2-Scars-plateC-dualIndex_000000000-CM8V3_S15_SQfiltered_Threshold90_countTable_nodedup.csv'\n",
    "pathD3t2 ='MB-FACS3t2-Scars-plateD-dualIndex_000000000-CM8V3_S16_SQfiltered_Threshold90_countTable_nodedup.csv'\n",
    "pathE3t2 ='MB-FACS3t2-Scars-plateE-dualIndex_000000000-CM8V3_S17_SQfiltered_Threshold90_countTable_nodedup.csv'\n",
    "pathF3t2 ='MB-FACS3t2-Scars-plateF-dualIndex_000000000-CM8V3_S18_SQfiltered_Threshold90_countTable_nodedup.csv'\n",
    "pathG3t2 ='MB-FACS3t2-Scars-plateG-dualIndex_000000000-CM8TV_S1_SQfiltered_Threshold90_countTable_nodedup.csv'\n",
    "pathH3t2 ='MB-FACS3t2-Scars-plateH-dualIndex_000000000-CM8TV_S2_SQfiltered_Threshold90_countTable_nodedup.csv'\n",
    "pathI3t2 ='MB-FACS3t2-Scars-plateI-dualIndex_000000000-CM8TV_S3_SQfiltered_Threshold90_countTable_nodedup.csv'\n",
    "pathJ3t2 ='MB-FACS3t2-Scars-plateJ-dualIndex_000000000-CM8TV_S4_SQfiltered_Threshold90_countTable_nodedup.csv'\n",
    "pathK3t2 ='MB-FACS3t2-Scars-plateK-dualIndex_000000000-CM8TV_S5_SQfiltered_Threshold90_countTable_nodedup.csv'\n",
    "pathL3t2 ='MB-FACS3t2-Scars-plateL-dualIndex_000000000-CM8TV_S6_SQfiltered_Threshold90_countTable_nodedup.csv'\n",
    "pathM3t2 ='MB-FACS3t2-Scars-plateM-dualIndex_000000000-CM8TV_S7_SQfiltered_Threshold90_countTable_nodedup.csv'\n",
    "pathN3t2 ='MB-FACS3t2-Scars-plateN-dualIndex_000000000-CM8TV_S8_SQfiltered_Threshold90_countTable_nodedup.csv'\n",
    "pathO3t2 ='MB-FACS3t2-Scars-plateO-dualIndex_000000000-CM8TV_S9_SQfiltered_Threshold90_countTable_nodedup.csv'\n",
    "pathP3t2 ='MB-FACS3t2-Scars-plateP-dualIndex_000000000-CM8TV_S10_SQfiltered_Threshold90_countTable_nodedup.csv'\n",
    "pathQ3t2 ='MB-FACS3t2-Scars-plateQ-dualIndex_000000000-CM8TV_S11_SQfiltered_Threshold90_countTable_nodedup.csv'\n",
    "pathR3t2 ='MB-FACS3t2-Scars-plateR-dualIndex_000000000-CM8TV_S12_SQfiltered_Threshold90_countTable_nodedup.csv'\n",
    "pathS3t2 ='MB-FACS3t2-Scars-plateS-dualIndex_000000000-CM8TV_S13_SQfiltered_Threshold90_countTable_nodedup.csv'\n"
   ]
  },
  {
   "cell_type": "markdown",
   "metadata": {},
   "source": [
    "Read in and process all plates."
   ]
  },
  {
   "cell_type": "code",
   "execution_count": 118,
   "metadata": {},
   "outputs": [],
   "source": [
    "plateA_3t2 = readInScarPlate(pathA3t2,'A3t2',finaldictionary3t2)\n",
    "plateB_3t2 = readInScarPlate(pathB3t2,'B3t2',finaldictionary3t2)\n",
    "plateC_3t2 = readInScarPlate(pathC3t2,'C3t2',finaldictionary3t2)\n",
    "plateD_3t2 = readInScarPlate(pathD3t2,'D3t2',finaldictionary3t2)\n",
    "plateE_3t2 = readInScarPlate(pathE3t2,'E3t2',finaldictionary3t2)\n",
    "plateF_3t2 = readInScarPlate(pathF3t2,'F3t2',finaldictionary3t2)\n",
    "plateG_3t2 = readInScarPlate(pathG3t2,'G3t2',finaldictionary3t2)\n",
    "plateH_3t2 = readInScarPlate(pathH3t2,'H3t2',finaldictionary3t2)\n",
    "plateI_3t2 = readInScarPlate(pathI3t2,'I3t2',finaldictionary3t2)\n",
    "plateJ_3t2 = readInScarPlate(pathJ3t2,'J3t2',finaldictionary3t2)\n",
    "plateK_3t2 = readInScarPlate(pathK3t2,'K3t2',finaldictionary3t2)\n",
    "plateL_3t2 = readInScarPlate(pathL3t2,'L3t2',finaldictionary3t2)\n",
    "plateM_3t2 = readInScarPlate(pathM3t2,'M3t2',finaldictionary3t2)\n",
    "plateN_3t2 = readInScarPlate(pathN3t2,'N3t2',finaldictionary3t2)\n",
    "plateO_3t2 = readInScarPlate(pathO3t2,'O3t2',finaldictionary3t2)\n",
    "plateP_3t2 = readInScarPlate(pathP3t2,'P3t2',finaldictionary3t2)\n",
    "plateQ_3t2 = readInScarPlate(pathQ3t2,'Q3t2',finaldictionary3t2)\n",
    "plateR_3t2 = readInScarPlate(pathR3t2,'R3t2',finaldictionary3t2)\n",
    "plateS_3t2 = readInScarPlate(pathS3t2,'S3t2',finaldictionary3t2)\n"
   ]
  },
  {
   "cell_type": "markdown",
   "metadata": {},
   "source": [
    "# FACS4.3"
   ]
  },
  {
   "cell_type": "markdown",
   "metadata": {},
   "source": [
    "Overview of gastruloids in this dataset:\n",
    "\n",
    "gastruloid name | Condition | Plates\n",
    "---|---|---\n",
    "1-2-4 | 120h embedded, induced | A, B, C, D, E, F, G 1/2\n",
    "1-5 | 96h embedded, induced | G 1/2, H, I, J, K, L"
   ]
  },
  {
   "cell_type": "markdown",
   "metadata": {},
   "source": [
    "## First: make a dictionary of all gastruloid names"
   ]
  },
  {
   "cell_type": "markdown",
   "metadata": {},
   "source": [
    "We can use this dictionary to change all names correctly. Names should be as follows: plateName_cellNumber.gastruloidName. \n",
    "We need to make a dictionary to correctly assign all cells to the correct gastruloids: some plates contain cells from multiple gastruloids."
   ]
  },
  {
   "cell_type": "markdown",
   "metadata": {},
   "source": [
    "First we add all plates that contain just one gastruloid to a dictionary.\n",
    "Then we just have to add the plate that contains multiple gastruloids."
   ]
  },
  {
   "cell_type": "code",
   "execution_count": 119,
   "metadata": {},
   "outputs": [],
   "source": [
    "dict4t3_ABCDEF = {}\n",
    "plates124 = ['A','B','C','D','E','F']\n",
    "for plate in plates124:\n",
    "    dictplate = {}\n",
    "    dictplate = gastruloidDictionary((plate+'4t3'),'120hE-1-2-4',1,385)\n",
    "    dict4t3_ABCDEF.update(dictplate)\n",
    "    \n",
    "dict4t3_HIJKL = {}\n",
    "plates15 = ['H','I','J','K','L']\n",
    "for plate in plates15:\n",
    "    dictplate = {}\n",
    "    dictplate = gastruloidDictionary((plate+'4t3'),'96hE-1-5',1,385)\n",
    "    dict4t3_HIJKL.update(dictplate)\n",
    "    \n",
    "# plate G\n",
    "dict4t3_G = gastruloidDictionary('G4t3','120hE-1-2-4',1,149)\n",
    "dict4t3_G.update(gastruloidDictionary('G4t3','96hE-1-5',149,385))\n"
   ]
  },
  {
   "cell_type": "markdown",
   "metadata": {},
   "source": [
    "Now we can add all dictionaries together in one final dictionary."
   ]
  },
  {
   "cell_type": "code",
   "execution_count": 120,
   "metadata": {},
   "outputs": [],
   "source": [
    "alldicts4t3 = [dict4t3_ABCDEF,dict4t3_G,dict4t3_HIJKL]\n",
    "finaldictionary4t3 = {}\n",
    "for dict1 in alldicts4t3:\n",
    "    finaldictionary4t3.update(dict1)\n",
    "    "
   ]
  },
  {
   "cell_type": "markdown",
   "metadata": {},
   "source": [
    "## Import and process all dataframes"
   ]
  },
  {
   "cell_type": "markdown",
   "metadata": {},
   "source": [
    "Define the full path for each plate."
   ]
  },
  {
   "cell_type": "code",
   "execution_count": 122,
   "metadata": {},
   "outputs": [],
   "source": [
    "pathA4t3 = 'MB-FACS4t3-Scars-plateA-dualIndex_000000000-CM8V3_S1_SQfiltered_Threshold90_countTable_nodedup.csv'\n",
    "pathB4t3 = 'MB-FACS4t3-Scars-plateB-dualIndex_000000000-CM8V3_S2_SQfiltered_Threshold90_countTable_nodedup.csv'\n",
    "pathC4t3 = 'MB-FACS4t3-Scars-plateC-dualIndex_000000000-CM8V3_S3_SQfiltered_Threshold90_countTable_nodedup.csv'\n",
    "pathD4t3 = 'MB-FACS4t3-Scars-plateD-dualIndex_000000000-CM8V3_S4_SQfiltered_Threshold90_countTable_nodedup.csv'\n",
    "pathE4t3 = 'MB-FACS4t3-Scars-plateE-dualIndex_000000000-CM8V3_S5_SQfiltered_Threshold90_countTable_nodedup.csv'\n",
    "pathF4t3 = 'MB-FACS4t3-Scars-plateF-dualIndex_000000000-CM8V3_S6_SQfiltered_Threshold90_countTable_nodedup.csv'\n",
    "pathG4t3 = 'MB-FACS4t3-Scars-plateG-dualIndex_000000000-CM8V3_S7_SQfiltered_Threshold90_countTable_nodedup.csv'\n",
    "pathH4t3 = 'MB-FACS4t3-Scars-plateH-dualIndex_000000000-CM8V3_S8_SQfiltered_Threshold90_countTable_nodedup.csv'\n",
    "pathI4t3 = 'MB-FACS4t3-Scars-plateI-dualIndex_000000000-CM8V3_S9_SQfiltered_Threshold90_countTable_nodedup.csv'\n",
    "pathJ4t3 = 'MB-FACS4t3-Scars-plateJ-dualIndex_000000000-CM8V3_S10_SQfiltered_Threshold90_countTable_nodedup.csv'\n",
    "pathK4t3 = 'MB-FACS4t3-Scars-plateK-dualIndex_000000000-CM8V3_S11_SQfiltered_Threshold90_countTable_nodedup.csv'\n",
    "pathL4t3 = 'MB-FACS4t3-Scars-plateL-dualIndex_000000000-CM8V3_S12_SQfiltered_Threshold90_countTable_nodedup.csv'"
   ]
  },
  {
   "cell_type": "markdown",
   "metadata": {},
   "source": [
    "Read in and process all plates."
   ]
  },
  {
   "cell_type": "code",
   "execution_count": 123,
   "metadata": {},
   "outputs": [],
   "source": [
    "plateA_4t3 = readInScarPlate(pathA4t3,'A4t3',finaldictionary4t3)\n",
    "plateB_4t3 = readInScarPlate(pathB4t3,'B4t3',finaldictionary4t3)\n",
    "plateC_4t3 = readInScarPlate(pathC4t3,'C4t3',finaldictionary4t3)\n",
    "plateD_4t3 = readInScarPlate(pathD4t3,'D4t3',finaldictionary4t3)\n",
    "plateE_4t3 = readInScarPlate(pathE4t3,'E4t3',finaldictionary4t3)\n",
    "plateF_4t3 = readInScarPlate(pathF4t3,'F4t3',finaldictionary4t3)\n",
    "plateG_4t3 = readInScarPlate(pathG4t3,'G4t3',finaldictionary4t3)\n",
    "plateH_4t3 = readInScarPlate(pathH4t3,'H4t3',finaldictionary4t3)\n",
    "plateI_4t3 = readInScarPlate(pathI4t3,'I4t3',finaldictionary4t3)\n",
    "plateJ_4t3 = readInScarPlate(pathJ4t3,'J4t3',finaldictionary4t3)\n",
    "plateK_4t3 = readInScarPlate(pathK4t3,'K4t3',finaldictionary4t3)\n",
    "plateL_4t3 = readInScarPlate(pathL4t3,'L4t3',finaldictionary4t3)"
   ]
  },
  {
   "cell_type": "markdown",
   "metadata": {},
   "source": [
    "### Merge dataframes"
   ]
  },
  {
   "cell_type": "code",
   "execution_count": 124,
   "metadata": {},
   "outputs": [],
   "source": [
    "#all\n",
    "dfs_all = [plateA_3t2,plateB_3t2,plateC_3t2,plateD_3t2,plateE_3t2,plateF_3t2,plateG_3t2,plateH_3t2,plateI_3t2,\n",
    "          plateJ_3t2,plateK_3t2,plateL_3t2,plateM_3t2,plateN_3t2,plateO_3t2,plateP_3t2,plateQ_3t2,plateR_3t2,\n",
    "          plateS_3t2,plateA_4t3,plateB_4t3,plateC_4t3,plateD_4t3,plateE_4t3,plateF_4t3,plateG_4t3,plateH_4t3,\n",
    "          plateI_4t3,plateJ_4t3,plateK_4t3,plateL_4t3]\n",
    "\n",
    "all_scars = dfs_all[0].join(dfs_all[1:],how='outer')"
   ]
  },
  {
   "cell_type": "code",
   "execution_count": 125,
   "metadata": {},
   "outputs": [
    {
     "data": {
      "text/html": [
       "<div>\n",
       "<style scoped>\n",
       "    .dataframe tbody tr th:only-of-type {\n",
       "        vertical-align: middle;\n",
       "    }\n",
       "\n",
       "    .dataframe tbody tr th {\n",
       "        vertical-align: top;\n",
       "    }\n",
       "\n",
       "    .dataframe thead tr th {\n",
       "        text-align: left;\n",
       "    }\n",
       "\n",
       "    .dataframe thead tr:last-of-type th {\n",
       "        text-align: right;\n",
       "    }\n",
       "</style>\n",
       "<table border=\"1\" class=\"dataframe\">\n",
       "  <thead>\n",
       "    <tr>\n",
       "      <th></th>\n",
       "      <th></th>\n",
       "      <th></th>\n",
       "      <th>gastruloid</th>\n",
       "      <th colspan=\"10\" halign=\"left\">96hE-1-1-1</th>\n",
       "      <th>...</th>\n",
       "      <th colspan=\"10\" halign=\"left\">96hE-1-5</th>\n",
       "    </tr>\n",
       "    <tr>\n",
       "      <th></th>\n",
       "      <th></th>\n",
       "      <th></th>\n",
       "      <th>cell</th>\n",
       "      <th>A3t2_1</th>\n",
       "      <th>A3t2_100</th>\n",
       "      <th>A3t2_102</th>\n",
       "      <th>A3t2_103</th>\n",
       "      <th>A3t2_104</th>\n",
       "      <th>A3t2_107</th>\n",
       "      <th>A3t2_108</th>\n",
       "      <th>A3t2_109</th>\n",
       "      <th>A3t2_111</th>\n",
       "      <th>A3t2_112</th>\n",
       "      <th>...</th>\n",
       "      <th>L4t3_90</th>\n",
       "      <th>L4t3_91</th>\n",
       "      <th>L4t3_92</th>\n",
       "      <th>L4t3_93</th>\n",
       "      <th>L4t3_94</th>\n",
       "      <th>L4t3_95</th>\n",
       "      <th>L4t3_96</th>\n",
       "      <th>L4t3_97</th>\n",
       "      <th>L4t3_98</th>\n",
       "      <th>L4t3_99</th>\n",
       "    </tr>\n",
       "    <tr>\n",
       "      <th>chrom</th>\n",
       "      <th>allele</th>\n",
       "      <th>site</th>\n",
       "      <th>scar</th>\n",
       "      <th></th>\n",
       "      <th></th>\n",
       "      <th></th>\n",
       "      <th></th>\n",
       "      <th></th>\n",
       "      <th></th>\n",
       "      <th></th>\n",
       "      <th></th>\n",
       "      <th></th>\n",
       "      <th></th>\n",
       "      <th></th>\n",
       "      <th></th>\n",
       "      <th></th>\n",
       "      <th></th>\n",
       "      <th></th>\n",
       "      <th></th>\n",
       "      <th></th>\n",
       "      <th></th>\n",
       "      <th></th>\n",
       "      <th></th>\n",
       "      <th></th>\n",
       "    </tr>\n",
       "  </thead>\n",
       "  <tbody>\n",
       "    <tr>\n",
       "      <th rowspan=\"5\" valign=\"top\">1</th>\n",
       "      <th rowspan=\"5\" valign=\"top\">None</th>\n",
       "      <th>116611825</th>\n",
       "      <th>WT</th>\n",
       "      <td>NaN</td>\n",
       "      <td>NaN</td>\n",
       "      <td>NaN</td>\n",
       "      <td>NaN</td>\n",
       "      <td>NaN</td>\n",
       "      <td>NaN</td>\n",
       "      <td>NaN</td>\n",
       "      <td>NaN</td>\n",
       "      <td>NaN</td>\n",
       "      <td>NaN</td>\n",
       "      <td>...</td>\n",
       "      <td>NaN</td>\n",
       "      <td>NaN</td>\n",
       "      <td>NaN</td>\n",
       "      <td>NaN</td>\n",
       "      <td>NaN</td>\n",
       "      <td>NaN</td>\n",
       "      <td>NaN</td>\n",
       "      <td>NaN</td>\n",
       "      <td>NaN</td>\n",
       "      <td>NaN</td>\n",
       "    </tr>\n",
       "    <tr>\n",
       "      <th>118624739</th>\n",
       "      <th>N.118624928.I</th>\n",
       "      <td>NaN</td>\n",
       "      <td>NaN</td>\n",
       "      <td>NaN</td>\n",
       "      <td>NaN</td>\n",
       "      <td>NaN</td>\n",
       "      <td>NaN</td>\n",
       "      <td>NaN</td>\n",
       "      <td>NaN</td>\n",
       "      <td>NaN</td>\n",
       "      <td>NaN</td>\n",
       "      <td>...</td>\n",
       "      <td>NaN</td>\n",
       "      <td>NaN</td>\n",
       "      <td>NaN</td>\n",
       "      <td>NaN</td>\n",
       "      <td>NaN</td>\n",
       "      <td>NaN</td>\n",
       "      <td>NaN</td>\n",
       "      <td>NaN</td>\n",
       "      <td>NaN</td>\n",
       "      <td>NaN</td>\n",
       "    </tr>\n",
       "    <tr>\n",
       "      <th>128363706</th>\n",
       "      <th>G.128363806.I</th>\n",
       "      <td>NaN</td>\n",
       "      <td>NaN</td>\n",
       "      <td>NaN</td>\n",
       "      <td>NaN</td>\n",
       "      <td>NaN</td>\n",
       "      <td>NaN</td>\n",
       "      <td>NaN</td>\n",
       "      <td>NaN</td>\n",
       "      <td>NaN</td>\n",
       "      <td>NaN</td>\n",
       "      <td>...</td>\n",
       "      <td>NaN</td>\n",
       "      <td>NaN</td>\n",
       "      <td>NaN</td>\n",
       "      <td>NaN</td>\n",
       "      <td>NaN</td>\n",
       "      <td>NaN</td>\n",
       "      <td>NaN</td>\n",
       "      <td>NaN</td>\n",
       "      <td>NaN</td>\n",
       "      <td>NaN</td>\n",
       "    </tr>\n",
       "    <tr>\n",
       "      <th>13187847</th>\n",
       "      <th>WT</th>\n",
       "      <td>NaN</td>\n",
       "      <td>NaN</td>\n",
       "      <td>NaN</td>\n",
       "      <td>NaN</td>\n",
       "      <td>NaN</td>\n",
       "      <td>NaN</td>\n",
       "      <td>NaN</td>\n",
       "      <td>NaN</td>\n",
       "      <td>NaN</td>\n",
       "      <td>NaN</td>\n",
       "      <td>...</td>\n",
       "      <td>NaN</td>\n",
       "      <td>NaN</td>\n",
       "      <td>NaN</td>\n",
       "      <td>NaN</td>\n",
       "      <td>NaN</td>\n",
       "      <td>NaN</td>\n",
       "      <td>NaN</td>\n",
       "      <td>NaN</td>\n",
       "      <td>NaN</td>\n",
       "      <td>NaN</td>\n",
       "    </tr>\n",
       "    <tr>\n",
       "      <th>131932286</th>\n",
       "      <th>WT</th>\n",
       "      <td>NaN</td>\n",
       "      <td>NaN</td>\n",
       "      <td>NaN</td>\n",
       "      <td>NaN</td>\n",
       "      <td>NaN</td>\n",
       "      <td>NaN</td>\n",
       "      <td>NaN</td>\n",
       "      <td>NaN</td>\n",
       "      <td>NaN</td>\n",
       "      <td>NaN</td>\n",
       "      <td>...</td>\n",
       "      <td>NaN</td>\n",
       "      <td>NaN</td>\n",
       "      <td>NaN</td>\n",
       "      <td>NaN</td>\n",
       "      <td>NaN</td>\n",
       "      <td>NaN</td>\n",
       "      <td>NaN</td>\n",
       "      <td>NaN</td>\n",
       "      <td>NaN</td>\n",
       "      <td>NaN</td>\n",
       "    </tr>\n",
       "  </tbody>\n",
       "</table>\n",
       "<p>5 rows × 11012 columns</p>\n",
       "</div>"
      ],
      "text/plain": [
       "gastruloid                           96hE-1-1-1                             \\\n",
       "cell                                     A3t2_1 A3t2_100 A3t2_102 A3t2_103   \n",
       "chrom allele site      scar                                                  \n",
       "1     None   116611825 WT                   NaN      NaN      NaN      NaN   \n",
       "             118624739 N.118624928.I        NaN      NaN      NaN      NaN   \n",
       "             128363706 G.128363806.I        NaN      NaN      NaN      NaN   \n",
       "             13187847  WT                   NaN      NaN      NaN      NaN   \n",
       "             131932286 WT                   NaN      NaN      NaN      NaN   \n",
       "\n",
       "gastruloid                                                                \\\n",
       "cell                                 A3t2_104 A3t2_107 A3t2_108 A3t2_109   \n",
       "chrom allele site      scar                                                \n",
       "1     None   116611825 WT                 NaN      NaN      NaN      NaN   \n",
       "             118624739 N.118624928.I      NaN      NaN      NaN      NaN   \n",
       "             128363706 G.128363806.I      NaN      NaN      NaN      NaN   \n",
       "             13187847  WT                 NaN      NaN      NaN      NaN   \n",
       "             131932286 WT                 NaN      NaN      NaN      NaN   \n",
       "\n",
       "gastruloid                                               ...   96hE-1-5  \\\n",
       "cell                                 A3t2_111 A3t2_112   ...    L4t3_90   \n",
       "chrom allele site      scar                              ...              \n",
       "1     None   116611825 WT                 NaN      NaN   ...        NaN   \n",
       "             118624739 N.118624928.I      NaN      NaN   ...        NaN   \n",
       "             128363706 G.128363806.I      NaN      NaN   ...        NaN   \n",
       "             13187847  WT                 NaN      NaN   ...        NaN   \n",
       "             131932286 WT                 NaN      NaN   ...        NaN   \n",
       "\n",
       "gastruloid                                                                    \\\n",
       "cell                                 L4t3_91 L4t3_92 L4t3_93 L4t3_94 L4t3_95   \n",
       "chrom allele site      scar                                                    \n",
       "1     None   116611825 WT                NaN     NaN     NaN     NaN     NaN   \n",
       "             118624739 N.118624928.I     NaN     NaN     NaN     NaN     NaN   \n",
       "             128363706 G.128363806.I     NaN     NaN     NaN     NaN     NaN   \n",
       "             13187847  WT                NaN     NaN     NaN     NaN     NaN   \n",
       "             131932286 WT                NaN     NaN     NaN     NaN     NaN   \n",
       "\n",
       "gastruloid                                                            \n",
       "cell                                 L4t3_96 L4t3_97 L4t3_98 L4t3_99  \n",
       "chrom allele site      scar                                           \n",
       "1     None   116611825 WT                NaN     NaN     NaN     NaN  \n",
       "             118624739 N.118624928.I     NaN     NaN     NaN     NaN  \n",
       "             128363706 G.128363806.I     NaN     NaN     NaN     NaN  \n",
       "             13187847  WT                NaN     NaN     NaN     NaN  \n",
       "             131932286 WT                NaN     NaN     NaN     NaN  \n",
       "\n",
       "[5 rows x 11012 columns]"
      ]
     },
     "execution_count": 125,
     "metadata": {},
     "output_type": "execute_result"
    }
   ],
   "source": [
    "all_scars.head()"
   ]
  },
  {
   "cell_type": "markdown",
   "metadata": {},
   "source": [
    "# Saving full dataframe"
   ]
  },
  {
   "cell_type": "code",
   "execution_count": 36,
   "metadata": {},
   "outputs": [],
   "source": [
    "all_scars.to_pickle(pathToData + '168hAA_Miseq_dataFrame_allscars_allplates_SQ90Filtered.pickle.gz')"
   ]
  },
  {
   "cell_type": "code",
   "execution_count": null,
   "metadata": {},
   "outputs": [],
   "source": []
  }
 ],
 "metadata": {
  "kernelspec": {
   "display_name": "Python 3",
   "language": "python",
   "name": "python3"
  },
  "language_info": {
   "codemirror_mode": {
    "name": "ipython",
    "version": 3
   },
   "file_extension": ".py",
   "mimetype": "text/x-python",
   "name": "python",
   "nbconvert_exporter": "python",
   "pygments_lexer": "ipython3",
   "version": "3.6.7"
  }
 },
 "nbformat": 4,
 "nbformat_minor": 2
}
