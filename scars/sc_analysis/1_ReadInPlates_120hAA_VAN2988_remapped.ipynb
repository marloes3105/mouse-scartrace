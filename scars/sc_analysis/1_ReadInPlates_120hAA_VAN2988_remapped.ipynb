{
 "cells": [
  {
   "cell_type": "markdown",
   "metadata": {},
   "source": [
    "# Import dependencies"
   ]
  },
  {
   "cell_type": "code",
   "execution_count": 1,
   "metadata": {},
   "outputs": [],
   "source": [
    "import sys, os\n",
    "from pandas.io.parsers import read_csv\n",
    "import numpy as np\n",
    "import pandas as pd\n",
    "import collections\n",
    "import scipy"
   ]
  },
  {
   "cell_type": "markdown",
   "metadata": {},
   "source": [
    "# FACS 25/07 and 01/08 2018"
   ]
  },
  {
   "cell_type": "markdown",
   "metadata": {},
   "source": [
    "Overview of gastruloids in this dataset:\n",
    "\n",
    "gastruloid name| Plates\n",
    "---|---\n",
    "C5A4 | A1: 1-5\n",
    "C5C3 | A1: 6-120, 130-144\n",
    "C5F2 | A1: 121-130, 145-384; B1: 1-24, 45-48\n",
    "C5B4 | B1: 25-44, 49-216, 240\n",
    "C5H10| B1: 232-239\n",
    "C5G5 | B1: 217-231, 241-384"
   ]
  },
  {
   "cell_type": "markdown",
   "metadata": {},
   "source": [
    "## First: make a dictionary of all gastruloid names"
   ]
  },
  {
   "cell_type": "markdown",
   "metadata": {},
   "source": [
    "We can use this dictionary to change all names correctly. Names should be as follows: plateName_cellNumber.gastruloidName. \n",
    "We need to make a dictionary to correctly assign all cells to the correct gastruloids: some plates contain cells from multiple gastruloids."
   ]
  },
  {
   "cell_type": "code",
   "execution_count": 2,
   "metadata": {},
   "outputs": [],
   "source": [
    "# plates go from 1 until 384. for 1-384: range(1,385)\n",
    "def gastruloidDictionary (plateName,gastruloidName,lower,upper):\n",
    "    dictGastruloidNames = {}\n",
    "    for cellnumber in list(range(lower,upper)):\n",
    "        oldname = (plateName+'_') + str(cellnumber)\n",
    "        newname = oldname + '.' + gastruloidName\n",
    "        dictGastruloidNames[oldname] = newname\n",
    "    return dictGastruloidNames  "
   ]
  },
  {
   "cell_type": "markdown",
   "metadata": {},
   "source": [
    "Then we just have to add the plates that contain multiple gastruloids."
   ]
  },
  {
   "cell_type": "code",
   "execution_count": 3,
   "metadata": {},
   "outputs": [],
   "source": [
    "# plate A1\n",
    "#dictA1 = gastruloidDictionary('A1','C5A4',1,6)\n",
    "#dictA1.update(gastruloidDictionary('A1','C5C3',6,121))\n",
    "#dictA1.update(gastruloidDictionary('A1','C5C3',131,145))\n",
    "#dictA1.update(gastruloidDictionary('A1','C5F2',121,131))\n",
    "#dictA1.update(gastruloidDictionary('A1','C5F2',145,385))\n",
    "\n",
    "# plate B1\n",
    "#dictB1 = gastruloidDictionary('B1','C5F2',1,25)\n",
    "#dictB1.update(gastruloidDictionary('B1','C5F2',45,49))\n",
    "#dictB1.update(gastruloidDictionary('B1','C5B4',25,45))\n",
    "#dictB1.update(gastruloidDictionary('B1','C5B4',49,217))\n",
    "#dictB1.update(gastruloidDictionary('B1','C5B4',240,241))\n",
    "#dictB1.update(gastruloidDictionary('B1','C5H10',232,240))\n",
    "#dictB1.update(gastruloidDictionary('B1','C5G5',217,232))\n",
    "#dictB1.update(gastruloidDictionary('B1','C5G5',241,385))\n",
    "\n",
    "# plate A2\n",
    "dictA2 = gastruloidDictionary('A2','C5A9',1,261)\n",
    "dictA2.update(gastruloidDictionary('A2','C5B10',261,385))\n",
    "\n",
    "# plate B2\n",
    "dictB2 = gastruloidDictionary('B2','C5B10',1,217)\n",
    "dictB2.update(gastruloidDictionary('B2','C5B10',230,241))\n",
    "dictB2.update(gastruloidDictionary('B2','C5C6',217,230))\n",
    "dictB2.update(gastruloidDictionary('B2','C5C6',241,385))\n",
    "\n",
    "# plate C2\n",
    "dictC2 = gastruloidDictionary('C2','C5C6',1,169)\n",
    "dictC2.update(gastruloidDictionary('C2','C5C6',188,193))\n",
    "dictC2.update(gastruloidDictionary('C2','C5H7',169,188))\n",
    "dictC2.update(gastruloidDictionary('C2','C5H7',193,385))\n",
    "\n",
    "# plate D2\n",
    "dictD2 = gastruloidDictionary('D2','C5H7',1,151)\n",
    "dictD2.update(gastruloidDictionary('D2','C5H9',151,385))\n",
    "\n",
    "# plate E2\n",
    "dictE2 = gastruloidDictionary('E2','C5H9',1,109)\n",
    "dictE2.update(gastruloidDictionary('E2','C5H11',109,385))\n",
    "\n",
    "# plate F2\n",
    "dictF2 = gastruloidDictionary('F2','C5H11',1,217)\n",
    "dictF2.update(gastruloidDictionary('F2','C5H11',235,241))\n",
    "dictF2.update(gastruloidDictionary('F2','C5G7',217,235))\n",
    "dictF2.update(gastruloidDictionary('F2','C5G7',241,385))\n",
    "\n",
    "# plate G2\n",
    "dictG2 = gastruloidDictionary('G2','C5G7',1,385)\n",
    "\n",
    "# plate H2\n",
    "dictH2 = gastruloidDictionary('H2','C5F10',1,385)"
   ]
  },
  {
   "cell_type": "markdown",
   "metadata": {},
   "source": [
    "Now we can add all dictionaries together in one final dictionary."
   ]
  },
  {
   "cell_type": "code",
   "execution_count": 4,
   "metadata": {},
   "outputs": [],
   "source": [
    "#A1 and B1 not included!\n",
    "\n",
    "alldicts = [dictA2,dictB2,dictC2,\n",
    "            dictD2,dictE2,dictF2,dictG2,dictH2]\n"
   ]
  },
  {
   "cell_type": "code",
   "execution_count": 5,
   "metadata": {},
   "outputs": [],
   "source": [
    "finaldictionary = {}\n",
    "for dict1 in alldicts:\n",
    "    finaldictionary.update(dict1)\n",
    "    "
   ]
  },
  {
   "cell_type": "markdown",
   "metadata": {},
   "source": [
    "## Import and process all dataframes"
   ]
  },
  {
   "cell_type": "markdown",
   "metadata": {},
   "source": [
    "First define the path to all .csv files, this is used by the function to retrieve the files."
   ]
  },
  {
   "cell_type": "code",
   "execution_count": 6,
   "metadata": {},
   "outputs": [],
   "source": [
    "pathToData = '/Users/m.blotenburg/Documents/Projects/Mouse_Scartrace/Data_analysis/Scar_analysis/20200324_VAN2988_remap_BWAfilters-alleleCalling/'"
   ]
  },
  {
   "cell_type": "code",
   "execution_count": 7,
   "metadata": {},
   "outputs": [],
   "source": [
    "def readInScarPlate(pathToFile, plateName,dictGastruloidNames):\n",
    "    scarPlate = read_csv((pathToData + pathToFile),sep = ',', low_memory=False, index_col=(0,1,2,3))\n",
    "    scarPlate = scarPlate.loc[[idx for idx in scarPlate.index if 'Unknown'!=idx]]\n",
    "    scarPlate = scarPlate.iloc[1:]\n",
    "    scarPlate.columns = scarPlate.columns.str.replace((scarPlate.columns[0].rsplit('_',1)[0] + '_'), (plateName + '_'))\n",
    "    scarPlate.index.names = ['chrom','allele','site', 'scar']\n",
    "    \n",
    "    scarPlate = scarPlate.rename(index=str, columns=dictGastruloidNames)    \n",
    "    scarPlate.columns = pd.MultiIndex.from_tuples( [ (x.split('.',3)[1], x.split('.',3)[0]) for x in scarPlate.columns] )\n",
    "    scarPlate.columns.names = ['gastruloid','cell']\n",
    "    scarPlate = scarPlate[sorted(scarPlate.columns)]\n",
    "    return scarPlate"
   ]
  },
  {
   "cell_type": "markdown",
   "metadata": {},
   "source": [
    "Define the full path for each plate."
   ]
  },
  {
   "cell_type": "code",
   "execution_count": 8,
   "metadata": {},
   "outputs": [],
   "source": [
    "#pathA1 = 'MB-FACS2507-Scars-PlateA-C5-Miseq-SingleIndex/count_table_SQfilteredbam.csv'\n",
    "#pathB1 = 'MB-FACS2507-Scars-PlateB-C5-Miseq-SingleIndex/count_table_SQfilteredbam.csv'\n",
    "pathA2 = 'MB-miseq-gastruloid-plateA-C5-scars-FACS0108/count_table_filteredBam.csv'\n",
    "pathB2 = 'MB-miseq-gastruloid-plateB-C5-scars-FACS0108/count_table_filteredBam.csv'\n",
    "pathC2 = 'MB-miseq-gastruloid-plateC-C5-scars-FACS0108/count_table_filteredBam.csv'\n",
    "pathD2 = 'MB-miseq-gastruloid-plateD-C5-scars-FACS0108/count_table_filteredBam.csv'\n",
    "pathE2 = 'MB-miseq-gastruloid-plateE-C5-scars-FACS0108/count_table_filteredBam.csv'\n",
    "pathF2 = 'MB-miseq-gastruloid-plateF-C5-scars-FACS0108/count_table_filteredBam.csv'\n",
    "pathG2 = 'MB-miseq-gastruloid-plateG-C5-scars-FACS0108/count_table_filteredBam.csv'\n",
    "pathH2 = 'MB-miseq-gastruloid-plateH-C5-scars-FACS0108/count_table_filteredBam.csv'\n",
    "\n"
   ]
  },
  {
   "cell_type": "markdown",
   "metadata": {},
   "source": [
    "Read in and process all plates."
   ]
  },
  {
   "cell_type": "code",
   "execution_count": 9,
   "metadata": {},
   "outputs": [],
   "source": [
    "#plateA1 = readInScarPlate(pathA1, 'A1', finaldictionary)\n",
    "#plateB1 = readInScarPlate(pathB1, 'B1', finaldictionary)\n",
    "\n",
    "plateA2 = readInScarPlate(pathA2, 'A2', finaldictionary)\n",
    "plateB2 = readInScarPlate(pathB2, 'B2', finaldictionary)\n",
    "plateC2 = readInScarPlate(pathC2, 'C2', finaldictionary)\n",
    "plateD2 = readInScarPlate(pathD2, 'D2', finaldictionary)\n",
    "plateE2 = readInScarPlate(pathE2, 'E2', finaldictionary)\n",
    "plateF2 = readInScarPlate(pathF2, 'F2', finaldictionary)\n",
    "plateG2 = readInScarPlate(pathG2, 'G2', finaldictionary)\n",
    "plateH2 = readInScarPlate(pathH2, 'H2', finaldictionary)"
   ]
  },
  {
   "cell_type": "markdown",
   "metadata": {},
   "source": [
    "### Merge dataframes"
   ]
  },
  {
   "cell_type": "code",
   "execution_count": 10,
   "metadata": {},
   "outputs": [],
   "source": [
    "#all\n",
    "dfs_all = [plateA2,plateB2,plateC2,plateD2,plateE2,plateF2,plateG2,plateH2]\n",
    "\n",
    "all_scars = dfs_all[0].join(dfs_all[1:],how='outer')"
   ]
  },
  {
   "cell_type": "code",
   "execution_count": 11,
   "metadata": {},
   "outputs": [
    {
     "data": {
      "text/html": [
       "<div>\n",
       "<style scoped>\n",
       "    .dataframe tbody tr th:only-of-type {\n",
       "        vertical-align: middle;\n",
       "    }\n",
       "\n",
       "    .dataframe tbody tr th {\n",
       "        vertical-align: top;\n",
       "    }\n",
       "\n",
       "    .dataframe thead tr th {\n",
       "        text-align: left;\n",
       "    }\n",
       "\n",
       "    .dataframe thead tr:last-of-type th {\n",
       "        text-align: right;\n",
       "    }\n",
       "</style>\n",
       "<table border=\"1\" class=\"dataframe\">\n",
       "  <thead>\n",
       "    <tr>\n",
       "      <th></th>\n",
       "      <th></th>\n",
       "      <th></th>\n",
       "      <th>gastruloid</th>\n",
       "      <th colspan=\"10\" halign=\"left\">C5A9</th>\n",
       "      <th>...</th>\n",
       "      <th colspan=\"10\" halign=\"left\">C5F10</th>\n",
       "    </tr>\n",
       "    <tr>\n",
       "      <th></th>\n",
       "      <th></th>\n",
       "      <th></th>\n",
       "      <th>cell</th>\n",
       "      <th>A2_1</th>\n",
       "      <th>A2_10</th>\n",
       "      <th>A2_100</th>\n",
       "      <th>A2_101</th>\n",
       "      <th>A2_102</th>\n",
       "      <th>A2_103</th>\n",
       "      <th>A2_104</th>\n",
       "      <th>A2_105</th>\n",
       "      <th>A2_106</th>\n",
       "      <th>A2_107</th>\n",
       "      <th>...</th>\n",
       "      <th>H2_90</th>\n",
       "      <th>H2_91</th>\n",
       "      <th>H2_92</th>\n",
       "      <th>H2_93</th>\n",
       "      <th>H2_94</th>\n",
       "      <th>H2_95</th>\n",
       "      <th>H2_96</th>\n",
       "      <th>H2_97</th>\n",
       "      <th>H2_98</th>\n",
       "      <th>H2_99</th>\n",
       "    </tr>\n",
       "    <tr>\n",
       "      <th>chrom</th>\n",
       "      <th>allele</th>\n",
       "      <th>site</th>\n",
       "      <th>scar</th>\n",
       "      <th></th>\n",
       "      <th></th>\n",
       "      <th></th>\n",
       "      <th></th>\n",
       "      <th></th>\n",
       "      <th></th>\n",
       "      <th></th>\n",
       "      <th></th>\n",
       "      <th></th>\n",
       "      <th></th>\n",
       "      <th></th>\n",
       "      <th></th>\n",
       "      <th></th>\n",
       "      <th></th>\n",
       "      <th></th>\n",
       "      <th></th>\n",
       "      <th></th>\n",
       "      <th></th>\n",
       "      <th></th>\n",
       "      <th></th>\n",
       "      <th></th>\n",
       "    </tr>\n",
       "  </thead>\n",
       "  <tbody>\n",
       "    <tr>\n",
       "      <th rowspan=\"5\" valign=\"top\">1</th>\n",
       "      <th rowspan=\"5\" valign=\"top\">None</th>\n",
       "      <th>12847807</th>\n",
       "      <th>WT</th>\n",
       "      <td>NaN</td>\n",
       "      <td>NaN</td>\n",
       "      <td>NaN</td>\n",
       "      <td>NaN</td>\n",
       "      <td>NaN</td>\n",
       "      <td>NaN</td>\n",
       "      <td>NaN</td>\n",
       "      <td>NaN</td>\n",
       "      <td>NaN</td>\n",
       "      <td>NaN</td>\n",
       "      <td>...</td>\n",
       "      <td>NaN</td>\n",
       "      <td>NaN</td>\n",
       "      <td>NaN</td>\n",
       "      <td>NaN</td>\n",
       "      <td>NaN</td>\n",
       "      <td>NaN</td>\n",
       "      <td>NaN</td>\n",
       "      <td>NaN</td>\n",
       "      <td>NaN</td>\n",
       "      <td>NaN</td>\n",
       "    </tr>\n",
       "    <tr>\n",
       "      <th>12847810</th>\n",
       "      <th>WT</th>\n",
       "      <td>NaN</td>\n",
       "      <td>NaN</td>\n",
       "      <td>NaN</td>\n",
       "      <td>NaN</td>\n",
       "      <td>NaN</td>\n",
       "      <td>NaN</td>\n",
       "      <td>NaN</td>\n",
       "      <td>NaN</td>\n",
       "      <td>NaN</td>\n",
       "      <td>NaN</td>\n",
       "      <td>...</td>\n",
       "      <td>NaN</td>\n",
       "      <td>NaN</td>\n",
       "      <td>NaN</td>\n",
       "      <td>NaN</td>\n",
       "      <td>NaN</td>\n",
       "      <td>NaN</td>\n",
       "      <td>NaN</td>\n",
       "      <td>NaN</td>\n",
       "      <td>NaN</td>\n",
       "      <td>NaN</td>\n",
       "    </tr>\n",
       "    <tr>\n",
       "      <th>12847812</th>\n",
       "      <th>WT</th>\n",
       "      <td>NaN</td>\n",
       "      <td>NaN</td>\n",
       "      <td>NaN</td>\n",
       "      <td>NaN</td>\n",
       "      <td>NaN</td>\n",
       "      <td>NaN</td>\n",
       "      <td>NaN</td>\n",
       "      <td>NaN</td>\n",
       "      <td>NaN</td>\n",
       "      <td>NaN</td>\n",
       "      <td>...</td>\n",
       "      <td>NaN</td>\n",
       "      <td>NaN</td>\n",
       "      <td>NaN</td>\n",
       "      <td>NaN</td>\n",
       "      <td>NaN</td>\n",
       "      <td>NaN</td>\n",
       "      <td>NaN</td>\n",
       "      <td>NaN</td>\n",
       "      <td>NaN</td>\n",
       "      <td>NaN</td>\n",
       "    </tr>\n",
       "    <tr>\n",
       "      <th>143473230</th>\n",
       "      <th>143473406.D</th>\n",
       "      <td>NaN</td>\n",
       "      <td>NaN</td>\n",
       "      <td>NaN</td>\n",
       "      <td>NaN</td>\n",
       "      <td>NaN</td>\n",
       "      <td>NaN</td>\n",
       "      <td>NaN</td>\n",
       "      <td>NaN</td>\n",
       "      <td>NaN</td>\n",
       "      <td>NaN</td>\n",
       "      <td>...</td>\n",
       "      <td>NaN</td>\n",
       "      <td>NaN</td>\n",
       "      <td>NaN</td>\n",
       "      <td>NaN</td>\n",
       "      <td>NaN</td>\n",
       "      <td>NaN</td>\n",
       "      <td>NaN</td>\n",
       "      <td>NaN</td>\n",
       "      <td>NaN</td>\n",
       "      <td>NaN</td>\n",
       "    </tr>\n",
       "    <tr>\n",
       "      <th>143473231</th>\n",
       "      <th>WT</th>\n",
       "      <td>NaN</td>\n",
       "      <td>NaN</td>\n",
       "      <td>NaN</td>\n",
       "      <td>NaN</td>\n",
       "      <td>NaN</td>\n",
       "      <td>NaN</td>\n",
       "      <td>NaN</td>\n",
       "      <td>NaN</td>\n",
       "      <td>NaN</td>\n",
       "      <td>NaN</td>\n",
       "      <td>...</td>\n",
       "      <td>NaN</td>\n",
       "      <td>NaN</td>\n",
       "      <td>NaN</td>\n",
       "      <td>NaN</td>\n",
       "      <td>NaN</td>\n",
       "      <td>NaN</td>\n",
       "      <td>NaN</td>\n",
       "      <td>NaN</td>\n",
       "      <td>NaN</td>\n",
       "      <td>NaN</td>\n",
       "    </tr>\n",
       "  </tbody>\n",
       "</table>\n",
       "<p>5 rows × 3065 columns</p>\n",
       "</div>"
      ],
      "text/plain": [
       "gastruloid                         C5A9                                    \\\n",
       "cell                               A2_1 A2_10 A2_100 A2_101 A2_102 A2_103   \n",
       "chrom allele site      scar                                                 \n",
       "1     None   12847807  WT           NaN   NaN    NaN    NaN    NaN    NaN   \n",
       "             12847810  WT           NaN   NaN    NaN    NaN    NaN    NaN   \n",
       "             12847812  WT           NaN   NaN    NaN    NaN    NaN    NaN   \n",
       "             143473230 143473406.D  NaN   NaN    NaN    NaN    NaN    NaN   \n",
       "             143473231 WT           NaN   NaN    NaN    NaN    NaN    NaN   \n",
       "\n",
       "gastruloid                                                      ... C5F10  \\\n",
       "cell                               A2_104 A2_105 A2_106 A2_107  ... H2_90   \n",
       "chrom allele site      scar                                     ...         \n",
       "1     None   12847807  WT             NaN    NaN    NaN    NaN  ...   NaN   \n",
       "             12847810  WT             NaN    NaN    NaN    NaN  ...   NaN   \n",
       "             12847812  WT             NaN    NaN    NaN    NaN  ...   NaN   \n",
       "             143473230 143473406.D    NaN    NaN    NaN    NaN  ...   NaN   \n",
       "             143473231 WT             NaN    NaN    NaN    NaN  ...   NaN   \n",
       "\n",
       "gastruloid                                                                    \\\n",
       "cell                               H2_91 H2_92 H2_93 H2_94 H2_95 H2_96 H2_97   \n",
       "chrom allele site      scar                                                    \n",
       "1     None   12847807  WT            NaN   NaN   NaN   NaN   NaN   NaN   NaN   \n",
       "             12847810  WT            NaN   NaN   NaN   NaN   NaN   NaN   NaN   \n",
       "             12847812  WT            NaN   NaN   NaN   NaN   NaN   NaN   NaN   \n",
       "             143473230 143473406.D   NaN   NaN   NaN   NaN   NaN   NaN   NaN   \n",
       "             143473231 WT            NaN   NaN   NaN   NaN   NaN   NaN   NaN   \n",
       "\n",
       "gastruloid                                      \n",
       "cell                               H2_98 H2_99  \n",
       "chrom allele site      scar                     \n",
       "1     None   12847807  WT            NaN   NaN  \n",
       "             12847810  WT            NaN   NaN  \n",
       "             12847812  WT            NaN   NaN  \n",
       "             143473230 143473406.D   NaN   NaN  \n",
       "             143473231 WT            NaN   NaN  \n",
       "\n",
       "[5 rows x 3065 columns]"
      ]
     },
     "execution_count": 11,
     "metadata": {},
     "output_type": "execute_result"
    }
   ],
   "source": [
    "all_scars.head()"
   ]
  },
  {
   "cell_type": "markdown",
   "metadata": {},
   "source": [
    "# Saving full dataframe"
   ]
  },
  {
   "cell_type": "code",
   "execution_count": 12,
   "metadata": {},
   "outputs": [],
   "source": [
    "all_scars.to_pickle(pathToData + '120hAA_miseq_remapped_filtered.pickle.gz')"
   ]
  },
  {
   "cell_type": "code",
   "execution_count": null,
   "metadata": {},
   "outputs": [],
   "source": []
  }
 ],
 "metadata": {
  "kernelspec": {
   "display_name": "Python 3",
   "language": "python",
   "name": "python3"
  },
  "language_info": {
   "codemirror_mode": {
    "name": "ipython",
    "version": 3
   },
   "file_extension": ".py",
   "mimetype": "text/x-python",
   "name": "python",
   "nbconvert_exporter": "python",
   "pygments_lexer": "ipython3",
   "version": "3.6.7"
  }
 },
 "nbformat": 4,
 "nbformat_minor": 2
}
